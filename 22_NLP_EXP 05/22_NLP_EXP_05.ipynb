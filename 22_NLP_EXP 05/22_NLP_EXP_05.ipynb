{
  "cells": [
    {
      "cell_type": "markdown",
      "id": "1b4f0f19-d3bb-44c7-9170-edf94f3589db",
      "metadata": {
        "id": "1b4f0f19-d3bb-44c7-9170-edf94f3589db"
      },
      "source": [
        "## Parts of Speech"
      ]
    },
    {
      "cell_type": "markdown",
      "id": "6ba18e31-e929-44b0-87f1-0ce10d867057",
      "metadata": {
        "id": "6ba18e31-e929-44b0-87f1-0ce10d867057"
      },
      "source": [
        "#### Tag|Meaning|English Examples\n",
        "#### ADJ|adjective|new, good, high, special, big, local\n",
        "#### ADP|adposition|on, of, at, with, by, into, under\n",
        "#### ADV|adverb|really, already, still, early, now\n",
        "#### CONJ|conjunction|and, or, but, if, while, although\n",
        "#### DET|determiner, article|the, a, some, most, every, no, which\n",
        "#### NOUN|noun|year, home, costs, time, Africa\n",
        "#### NUM|numeral|twenty-four, fourth, 1991, 14:24\n",
        "#### PRT|particle|at, on, out, over per, that, up, with\n",
        "#### PRON|pronoun|he, their, her, its, my, I, us\n",
        "#### VERB|verb|is, say, told, given, playing, would\n",
        "#### .|punctuation marks|. , ; !\n",
        "#### X|other|ersatz, esprit, dunno, gr8, univeristy"
      ]
    },
    {
      "cell_type": "code",
      "execution_count": 1,
      "id": "ac4116af-c258-492c-b40b-3760829add57",
      "metadata": {
        "id": "ac4116af-c258-492c-b40b-3760829add57"
      },
      "outputs": [],
      "source": [
        "text = \"TON 618 (short for Tonantzintla 618) is a hyperluminous, broad-absorption-line, radio-loud quasar and Lyman-alpha blob located near the border of the constellations Canes Venatici and Coma Berenices, with the projected comoving distance of approximately 18.2 billion light-years from Earth.\""
      ]
    },
    {
      "cell_type": "markdown",
      "id": "b6a01ae5-d588-4476-bed6-888810444f27",
      "metadata": {
        "id": "b6a01ae5-d588-4476-bed6-888810444f27"
      },
      "source": [
        "### Importing necessary dependencies"
      ]
    },
    {
      "cell_type": "code",
      "execution_count": 2,
      "id": "a107f74a-2400-4b98-8c2f-81e1af5234c5",
      "metadata": {
        "id": "a107f74a-2400-4b98-8c2f-81e1af5234c5"
      },
      "outputs": [],
      "source": [
        "import nltk\n",
        "from nltk.tokenize import word_tokenize"
      ]
    },
    {
      "cell_type": "markdown",
      "id": "d27584dd-2d79-47fb-b4d9-6d97671d3293",
      "metadata": {
        "id": "d27584dd-2d79-47fb-b4d9-6d97671d3293"
      },
      "source": [
        "### Word Tokenization"
      ]
    },
    {
      "cell_type": "code",
      "execution_count": 5,
      "id": "fd61f00f-2b46-4301-9103-5856e3c380d6",
      "metadata": {
        "colab": {
          "base_uri": "https://localhost:8080/",
          "height": 0
        },
        "id": "fd61f00f-2b46-4301-9103-5856e3c380d6",
        "outputId": "b4d8ab9b-f5e6-4678-c5f3-dce270b6fbc0"
      },
      "outputs": [
        {
          "output_type": "stream",
          "name": "stderr",
          "text": [
            "[nltk_data] Downloading package punkt to /root/nltk_data...\n",
            "[nltk_data]   Unzipping tokenizers/punkt.zip.\n"
          ]
        }
      ],
      "source": [
        "nltk.download('punkt')\n",
        "words = word_tokenize(text)"
      ]
    },
    {
      "cell_type": "markdown",
      "id": "c0c1dd07-8de1-420a-b86c-0b032c573c2a",
      "metadata": {
        "id": "c0c1dd07-8de1-420a-b86c-0b032c573c2a"
      },
      "source": [
        "### Parts of Speech Tagging"
      ]
    },
    {
      "cell_type": "code",
      "execution_count": 9,
      "id": "b103e4dc-4474-487b-af1b-5b6b32616005",
      "metadata": {
        "colab": {
          "base_uri": "https://localhost:8080/",
          "height": 0
        },
        "id": "b103e4dc-4474-487b-af1b-5b6b32616005",
        "outputId": "37bfe894-e831-4fa8-d8cb-1a524106cbe0"
      },
      "outputs": [
        {
          "output_type": "stream",
          "name": "stderr",
          "text": [
            "[nltk_data] Downloading package universal_tagset to /root/nltk_data...\n",
            "[nltk_data]   Unzipping taggers/universal_tagset.zip.\n",
            "[nltk_data] Downloading package averaged_perceptron_tagger to\n",
            "[nltk_data]     /root/nltk_data...\n",
            "[nltk_data]   Package averaged_perceptron_tagger is already up-to-\n",
            "[nltk_data]       date!\n"
          ]
        }
      ],
      "source": [
        "nltk.download('universal_tagset')\n",
        "nltk.download('averaged_perceptron_tagger')\n",
        "tagged_words = nltk.pos_tag(words, tagset = 'universal')"
      ]
    },
    {
      "cell_type": "code",
      "execution_count": 10,
      "id": "2563f435-1eba-48df-9f01-524e26a87b0d",
      "metadata": {
        "colab": {
          "base_uri": "https://localhost:8080/",
          "height": 0
        },
        "id": "2563f435-1eba-48df-9f01-524e26a87b0d",
        "outputId": "1ff02f03-d201-4778-b276-b0be610d4def"
      },
      "outputs": [
        {
          "output_type": "execute_result",
          "data": {
            "text/plain": [
              "[('TON', '.'),\n",
              " ('618', 'NUM'),\n",
              " ('(', '.'),\n",
              " ('short', 'ADJ'),\n",
              " ('for', 'ADP'),\n",
              " ('Tonantzintla', 'NOUN'),\n",
              " ('618', 'NUM'),\n",
              " (')', '.'),\n",
              " ('is', 'VERB'),\n",
              " ('a', 'DET'),\n",
              " ('hyperluminous', 'ADJ'),\n",
              " (',', '.'),\n",
              " ('broad-absorption-line', 'ADJ'),\n",
              " (',', '.'),\n",
              " ('radio-loud', 'ADJ'),\n",
              " ('quasar', 'NOUN'),\n",
              " ('and', 'CONJ'),\n",
              " ('Lyman-alpha', 'NOUN'),\n",
              " ('blob', 'NOUN'),\n",
              " ('located', 'VERB'),\n",
              " ('near', 'ADP'),\n",
              " ('the', 'DET'),\n",
              " ('border', 'NOUN'),\n",
              " ('of', 'ADP'),\n",
              " ('the', 'DET'),\n",
              " ('constellations', 'NOUN'),\n",
              " ('Canes', 'NOUN'),\n",
              " ('Venatici', 'NOUN'),\n",
              " ('and', 'CONJ'),\n",
              " ('Coma', 'NOUN'),\n",
              " ('Berenices', 'NOUN'),\n",
              " (',', '.'),\n",
              " ('with', 'ADP'),\n",
              " ('the', 'DET'),\n",
              " ('projected', 'VERB'),\n",
              " ('comoving', 'NOUN'),\n",
              " ('distance', 'NOUN'),\n",
              " ('of', 'ADP'),\n",
              " ('approximately', 'ADV'),\n",
              " ('18.2', 'NUM'),\n",
              " ('billion', 'NUM'),\n",
              " ('light-years', 'NOUN'),\n",
              " ('from', 'ADP'),\n",
              " ('Earth', 'NOUN'),\n",
              " ('.', '.')]"
            ]
          },
          "metadata": {},
          "execution_count": 10
        }
      ],
      "source": [
        "tagged_words"
      ]
    },
    {
      "cell_type": "code",
      "execution_count": 11,
      "id": "1fe2222b-4334-43cd-8c9a-924f00feaaf8",
      "metadata": {
        "colab": {
          "base_uri": "https://localhost:8080/",
          "height": 0
        },
        "id": "1fe2222b-4334-43cd-8c9a-924f00feaaf8",
        "outputId": "0ebf5427-0f7a-4ea3-c300-0493fb85469f"
      },
      "outputs": [
        {
          "output_type": "stream",
          "name": "stdout",
          "text": [
            "('TON', '.')\n",
            "('618', 'NUM')\n",
            "('(', '.')\n",
            "('short', 'ADJ')\n",
            "('for', 'ADP')\n",
            "('Tonantzintla', 'NOUN')\n",
            "('618', 'NUM')\n",
            "(')', '.')\n",
            "('is', 'VERB')\n",
            "('a', 'DET')\n",
            "('hyperluminous', 'ADJ')\n",
            "(',', '.')\n",
            "('broad-absorption-line', 'ADJ')\n",
            "(',', '.')\n",
            "('radio-loud', 'ADJ')\n",
            "('quasar', 'NOUN')\n",
            "('and', 'CONJ')\n",
            "('Lyman-alpha', 'NOUN')\n",
            "('blob', 'NOUN')\n",
            "('located', 'VERB')\n",
            "('near', 'ADP')\n",
            "('the', 'DET')\n",
            "('border', 'NOUN')\n",
            "('of', 'ADP')\n",
            "('the', 'DET')\n",
            "('constellations', 'NOUN')\n",
            "('Canes', 'NOUN')\n",
            "('Venatici', 'NOUN')\n",
            "('and', 'CONJ')\n",
            "('Coma', 'NOUN')\n",
            "('Berenices', 'NOUN')\n",
            "(',', '.')\n",
            "('with', 'ADP')\n",
            "('the', 'DET')\n",
            "('projected', 'VERB')\n",
            "('comoving', 'NOUN')\n",
            "('distance', 'NOUN')\n",
            "('of', 'ADP')\n",
            "('approximately', 'ADV')\n",
            "('18.2', 'NUM')\n",
            "('billion', 'NUM')\n",
            "('light-years', 'NOUN')\n",
            "('from', 'ADP')\n",
            "('Earth', 'NOUN')\n",
            "('.', '.')\n"
          ]
        }
      ],
      "source": [
        "for t in tagged_words:\n",
        "    print(t)"
      ]
    }
  ],
  "metadata": {
    "kernelspec": {
      "display_name": "Python 3 (ipykernel)",
      "language": "python",
      "name": "python3"
    },
    "language_info": {
      "codemirror_mode": {
        "name": "ipython",
        "version": 3
      },
      "file_extension": ".py",
      "mimetype": "text/x-python",
      "name": "python",
      "nbconvert_exporter": "python",
      "pygments_lexer": "ipython3",
      "version": "3.11.5"
    },
    "colab": {
      "provenance": []
    }
  },
  "nbformat": 4,
  "nbformat_minor": 5
}