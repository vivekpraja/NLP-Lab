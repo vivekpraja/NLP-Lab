{
  "cells": [
    {
      "cell_type": "code",
      "execution_count": 1,
      "id": "37215ea4-e280-47fb-99a9-d8bd4929f842",
      "metadata": {
        "id": "37215ea4-e280-47fb-99a9-d8bd4929f842"
      },
      "outputs": [],
      "source": [
        "import spacy"
      ]
    },
    {
      "cell_type": "markdown",
      "id": "d1236d9f-09b3-47c7-9f2d-a4c882674889",
      "metadata": {
        "id": "d1236d9f-09b3-47c7-9f2d-a4c882674889"
      },
      "source": [
        "### Load the spaCy language model"
      ]
    },
    {
      "cell_type": "code",
      "execution_count": 2,
      "id": "73d61c85-4bd0-47ba-a941-8bd1145d3bf0",
      "metadata": {
        "id": "73d61c85-4bd0-47ba-a941-8bd1145d3bf0"
      },
      "outputs": [],
      "source": [
        "nlp = spacy.load(\"en_core_web_sm\")"
      ]
    },
    {
      "cell_type": "markdown",
      "id": "0a235dca-014f-44dc-a948-8da9ec7b7581",
      "metadata": {
        "id": "0a235dca-014f-44dc-a948-8da9ec7b7581"
      },
      "source": [
        "### Sample text input"
      ]
    },
    {
      "cell_type": "code",
      "execution_count": 3,
      "id": "6eb36191-0894-4a1f-9b2c-5b4dce6be437",
      "metadata": {
        "id": "6eb36191-0894-4a1f-9b2c-5b4dce6be437"
      },
      "outputs": [],
      "source": [
        "text = \"Apple Inc. is a company based in Cupertino, California. John works for Google in Mountain View.\""
      ]
    },
    {
      "cell_type": "markdown",
      "id": "30338c0a-16aa-48b1-8e65-918b602a7d0d",
      "metadata": {
        "id": "30338c0a-16aa-48b1-8e65-918b602a7d0d"
      },
      "source": [
        "### Process the text using spaCy"
      ]
    },
    {
      "cell_type": "code",
      "execution_count": 5,
      "id": "3efff083-dab3-4668-81ec-0d35f32465c4",
      "metadata": {
        "colab": {
          "base_uri": "https://localhost:8080/",
          "height": 0
        },
        "id": "3efff083-dab3-4668-81ec-0d35f32465c4",
        "outputId": "eee47b1b-02aa-42d5-fdb9-b7a675434e53"
      },
      "outputs": [
        {
          "output_type": "stream",
          "name": "stdout",
          "text": [
            "Entity: Apple Inc., Label: ORG\n",
            "Entity: Cupertino, Label: GPE\n",
            "Entity: California, Label: GPE\n",
            "Entity: John, Label: PERSON\n",
            "Entity: Google, Label: ORG\n",
            "Entity: Mountain View, Label: GPE\n"
          ]
        }
      ],
      "source": [
        "import spacy\n",
        "\n",
        "# Load the spaCy language model\n",
        "nlp = spacy.load(\"en_core_web_sm\")\n",
        "\n",
        "# Sample text input\n",
        "text = \"Apple Inc. is a company based in Cupertino, California. John works for Google in Mountain View.\"\n",
        "\n",
        "# Process the text using spaCy\n",
        "doc = nlp(text)\n",
        "\n",
        "# Initialize variables to store named entities\n",
        "named_entities = []\n",
        "\n",
        "# Define a function to extract named entities\n",
        "def extract_named_entities(doc):\n",
        "    entities = []\n",
        "    current_entity = None\n",
        "\n",
        "    for token in doc:\n",
        "        if token.ent_type_:\n",
        "            if current_entity and token.ent_type_ == current_entity[1]:\n",
        "                current_entity = (current_entity[0] + \" \" + token.text, token.ent_type_)\n",
        "            else:\n",
        "                if current_entity:\n",
        "                    entities.append(current_entity)\n",
        "                current_entity = (token.text, token.ent_type_)\n",
        "        else:\n",
        "            if current_entity:\n",
        "                entities.append(current_entity)\n",
        "            current_entity = None\n",
        "\n",
        "    if current_entity:\n",
        "        entities.append(current_entity)\n",
        "\n",
        "    return entities\n",
        "\n",
        "# Extract named entities\n",
        "named_entities = extract_named_entities(doc)\n",
        "\n",
        "# Print the named entities\n",
        "for entity, label in named_entities:\n",
        "    print(f\"Entity: {entity}, Label: {label}\")\n"
      ]
    }
  ],
  "metadata": {
    "kernelspec": {
      "display_name": "Python 3 (ipykernel)",
      "language": "python",
      "name": "python3"
    },
    "language_info": {
      "codemirror_mode": {
        "name": "ipython",
        "version": 3
      },
      "file_extension": ".py",
      "mimetype": "text/x-python",
      "name": "python",
      "nbconvert_exporter": "python",
      "pygments_lexer": "ipython3",
      "version": "3.11.6"
    },
    "colab": {
      "provenance": []
    }
  },
  "nbformat": 4,
  "nbformat_minor": 5
}