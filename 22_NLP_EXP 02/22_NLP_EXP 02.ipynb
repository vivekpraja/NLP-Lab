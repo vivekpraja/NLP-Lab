{
  "cells": [
    {
      "cell_type": "markdown",
      "id": "excessive-adrian",
      "metadata": {
        "id": "excessive-adrian"
      },
      "source": [
        "Name: Vivek Prajapati Roll no: 22\n",
        "Experiment 02 ~ NLP"
      ]
    },
    {
      "cell_type": "markdown",
      "id": "regular-fellow",
      "metadata": {
        "id": "regular-fellow"
      },
      "source": [
        "### Library required for Preprocessing"
      ]
    },
    {
      "cell_type": "code",
      "execution_count": null,
      "id": "million-methodology",
      "metadata": {
        "colab": {
          "base_uri": "https://localhost:8080/"
        },
        "id": "million-methodology",
        "outputId": "29c79975-616a-4417-8a9e-a3e669592b1e"
      },
      "outputs": [
        {
          "output_type": "stream",
          "name": "stdout",
          "text": [
            "Requirement already satisfied: nltk in /usr/local/lib/python3.10/dist-packages (3.8.1)\n",
            "Requirement already satisfied: click in /usr/local/lib/python3.10/dist-packages (from nltk) (8.1.6)\n",
            "Requirement already satisfied: joblib in /usr/local/lib/python3.10/dist-packages (from nltk) (1.3.2)\n",
            "Requirement already satisfied: regex>=2021.8.3 in /usr/local/lib/python3.10/dist-packages (from nltk) (2023.6.3)\n",
            "Requirement already satisfied: tqdm in /usr/local/lib/python3.10/dist-packages (from nltk) (4.66.1)\n"
          ]
        }
      ],
      "source": [
        "!pip install nltk"
      ]
    },
    {
      "cell_type": "code",
      "execution_count": null,
      "id": "alien-breathing",
      "metadata": {
        "id": "alien-breathing"
      },
      "outputs": [],
      "source": [
        "import nltk"
      ]
    },
    {
      "cell_type": "code",
      "execution_count": null,
      "id": "juvenile-powder",
      "metadata": {
        "colab": {
          "base_uri": "https://localhost:8080/"
        },
        "id": "juvenile-powder",
        "outputId": "bfd9401c-5f84-475b-cf9d-1ce6c6539607"
      },
      "outputs": [
        {
          "name": "stdout",
          "output_type": "stream",
          "text": [
            "NLTK Downloader\n",
            "---------------------------------------------------------------------------\n",
            "    d) Download   l) List    u) Update   c) Config   h) Help   q) Quit\n",
            "---------------------------------------------------------------------------\n",
            "Downloader> d\n",
            "\n",
            "Download which package (l=list; x=cancel)?\n",
            "  Identifier> punkt\n"
          ]
        },
        {
          "output_type": "stream",
          "name": "stderr",
          "text": [
            "    Downloading package punkt to /root/nltk_data...\n",
            "      Unzipping tokenizers/punkt.zip.\n"
          ]
        },
        {
          "name": "stdout",
          "output_type": "stream",
          "text": [
            "\n",
            "---------------------------------------------------------------------------\n",
            "    d) Download   l) List    u) Update   c) Config   h) Help   q) Quit\n",
            "---------------------------------------------------------------------------\n",
            "Downloader> q\n"
          ]
        },
        {
          "output_type": "execute_result",
          "data": {
            "text/plain": [
              "True"
            ]
          },
          "metadata": {},
          "execution_count": 3
        }
      ],
      "source": [
        "nltk.download()"
      ]
    },
    {
      "cell_type": "markdown",
      "id": "funded-pontiac",
      "metadata": {
        "id": "funded-pontiac"
      },
      "source": [
        "### Sentence Tokenization"
      ]
    },
    {
      "cell_type": "code",
      "execution_count": null,
      "id": "offshore-contrast",
      "metadata": {
        "id": "offshore-contrast"
      },
      "outputs": [],
      "source": [
        "from nltk.tokenize import sent_tokenize"
      ]
    },
    {
      "cell_type": "code",
      "execution_count": null,
      "id": "tested-portable",
      "metadata": {
        "id": "tested-portable"
      },
      "outputs": [],
      "source": [
        "text = '''In probability, two events are independent if the incidence of one event does not affect the probability of the other event. If the incidence of one event does affect the probability of the other event, then the events are dependent.'''"
      ]
    },
    {
      "cell_type": "code",
      "execution_count": null,
      "id": "handmade-wedding",
      "metadata": {
        "colab": {
          "base_uri": "https://localhost:8080/",
          "height": 53
        },
        "id": "handmade-wedding",
        "outputId": "59de30ad-8d82-4309-c902-f979c6ac329c"
      },
      "outputs": [
        {
          "output_type": "execute_result",
          "data": {
            "text/plain": [
              "'In probability, two events are independent if the incidence of one event does not affect the probability of the other event. If the incidence of one event does affect the probability of the other event, then the events are dependent.'"
            ],
            "application/vnd.google.colaboratory.intrinsic+json": {
              "type": "string"
            }
          },
          "metadata": {},
          "execution_count": 7
        }
      ],
      "source": [
        "text"
      ]
    },
    {
      "cell_type": "code",
      "execution_count": null,
      "id": "curious-legislature",
      "metadata": {
        "id": "curious-legislature"
      },
      "outputs": [],
      "source": [
        "sentences = sent_tokenize (text)"
      ]
    },
    {
      "cell_type": "code",
      "execution_count": null,
      "id": "bored-narrative",
      "metadata": {
        "colab": {
          "base_uri": "https://localhost:8080/"
        },
        "id": "bored-narrative",
        "outputId": "44233d15-4583-443c-86d7-8a5882f7c4ee"
      },
      "outputs": [
        {
          "output_type": "execute_result",
          "data": {
            "text/plain": [
              "['In probability, two events are independent if the incidence of one event does not affect the probability of the other event.',\n",
              " 'If the incidence of one event does affect the probability of the other event, then the events are dependent.']"
            ]
          },
          "metadata": {},
          "execution_count": 9
        }
      ],
      "source": [
        "sentences"
      ]
    },
    {
      "cell_type": "markdown",
      "id": "suitable-franchise",
      "metadata": {
        "id": "suitable-franchise"
      },
      "source": [
        "### Word Tokenization"
      ]
    },
    {
      "cell_type": "code",
      "execution_count": null,
      "id": "alien-basin",
      "metadata": {
        "id": "alien-basin"
      },
      "outputs": [],
      "source": [
        "from nltk.tokenize import word_tokenize"
      ]
    },
    {
      "cell_type": "code",
      "execution_count": null,
      "id": "innovative-hayes",
      "metadata": {
        "id": "innovative-hayes"
      },
      "outputs": [],
      "source": [
        "words = word_tokenize (text)"
      ]
    },
    {
      "cell_type": "code",
      "execution_count": null,
      "id": "sporting-medicare",
      "metadata": {
        "colab": {
          "base_uri": "https://localhost:8080/"
        },
        "id": "sporting-medicare",
        "outputId": "331c96d0-94f6-4e26-fa29-769b299b114e"
      },
      "outputs": [
        {
          "output_type": "execute_result",
          "data": {
            "text/plain": [
              "['In',\n",
              " 'probability',\n",
              " ',',\n",
              " 'two',\n",
              " 'events',\n",
              " 'are',\n",
              " 'independent',\n",
              " 'if',\n",
              " 'the',\n",
              " 'incidence',\n",
              " 'of',\n",
              " 'one',\n",
              " 'event',\n",
              " 'does',\n",
              " 'not',\n",
              " 'affect',\n",
              " 'the',\n",
              " 'probability',\n",
              " 'of',\n",
              " 'the',\n",
              " 'other',\n",
              " 'event',\n",
              " '.',\n",
              " 'If',\n",
              " 'the',\n",
              " 'incidence',\n",
              " 'of',\n",
              " 'one',\n",
              " 'event',\n",
              " 'does',\n",
              " 'affect',\n",
              " 'the',\n",
              " 'probability',\n",
              " 'of',\n",
              " 'the',\n",
              " 'other',\n",
              " 'event',\n",
              " ',',\n",
              " 'then',\n",
              " 'the',\n",
              " 'events',\n",
              " 'are',\n",
              " 'dependent',\n",
              " '.']"
            ]
          },
          "metadata": {},
          "execution_count": 12
        }
      ],
      "source": [
        "words"
      ]
    },
    {
      "cell_type": "code",
      "execution_count": null,
      "id": "hybrid-motivation",
      "metadata": {
        "colab": {
          "base_uri": "https://localhost:8080/"
        },
        "id": "hybrid-motivation",
        "outputId": "297437ce-0feb-41bf-9707-5c6e23aaff61"
      },
      "outputs": [
        {
          "output_type": "stream",
          "name": "stdout",
          "text": [
            "In\n",
            "probability\n",
            ",\n",
            "two\n",
            "events\n",
            "are\n",
            "independent\n",
            "if\n",
            "the\n",
            "incidence\n",
            "of\n",
            "one\n",
            "event\n",
            "does\n",
            "not\n",
            "affect\n",
            "the\n",
            "probability\n",
            "of\n",
            "the\n",
            "other\n",
            "event\n",
            ".\n",
            "If\n",
            "the\n",
            "incidence\n",
            "of\n",
            "one\n",
            "event\n",
            "does\n",
            "affect\n",
            "the\n",
            "probability\n",
            "of\n",
            "the\n",
            "other\n",
            "event\n",
            ",\n",
            "then\n",
            "the\n",
            "events\n",
            "are\n",
            "dependent\n",
            ".\n"
          ]
        }
      ],
      "source": [
        "for w in words:\n",
        "    print (w)"
      ]
    },
    {
      "cell_type": "markdown",
      "id": "related-submission",
      "metadata": {
        "id": "related-submission"
      },
      "source": [
        "### Levels of Sentences Tokenization using Comprehension"
      ]
    },
    {
      "cell_type": "code",
      "execution_count": null,
      "id": "german-vintage",
      "metadata": {
        "colab": {
          "base_uri": "https://localhost:8080/"
        },
        "id": "german-vintage",
        "outputId": "2279a082-29d0-4bee-fd6a-8bfe3be96d55"
      },
      "outputs": [
        {
          "output_type": "execute_result",
          "data": {
            "text/plain": [
              "['In probability, two events are independent if the incidence of one event does not affect the probability of the other event.',\n",
              " 'If the incidence of one event does affect the probability of the other event, then the events are dependent.']"
            ]
          },
          "metadata": {},
          "execution_count": 14
        }
      ],
      "source": [
        "sent_tokenize (text)"
      ]
    },
    {
      "cell_type": "code",
      "execution_count": null,
      "id": "cardiovascular-hazard",
      "metadata": {
        "colab": {
          "base_uri": "https://localhost:8080/"
        },
        "id": "cardiovascular-hazard",
        "outputId": "8b97e1d1-603a-4057-dc90-bbbaef12635f"
      },
      "outputs": [
        {
          "output_type": "execute_result",
          "data": {
            "text/plain": [
              "[['In',\n",
              "  'probability',\n",
              "  ',',\n",
              "  'two',\n",
              "  'events',\n",
              "  'are',\n",
              "  'independent',\n",
              "  'if',\n",
              "  'the',\n",
              "  'incidence',\n",
              "  'of',\n",
              "  'one',\n",
              "  'event',\n",
              "  'does',\n",
              "  'not',\n",
              "  'affect',\n",
              "  'the',\n",
              "  'probability',\n",
              "  'of',\n",
              "  'the',\n",
              "  'other',\n",
              "  'event',\n",
              "  '.',\n",
              "  'If',\n",
              "  'the',\n",
              "  'incidence',\n",
              "  'of',\n",
              "  'one',\n",
              "  'event',\n",
              "  'does',\n",
              "  'affect',\n",
              "  'the',\n",
              "  'probability',\n",
              "  'of',\n",
              "  'the',\n",
              "  'other',\n",
              "  'event',\n",
              "  ',',\n",
              "  'then',\n",
              "  'the',\n",
              "  'events',\n",
              "  'are',\n",
              "  'dependent',\n",
              "  '.'],\n",
              " ['In',\n",
              "  'probability',\n",
              "  ',',\n",
              "  'two',\n",
              "  'events',\n",
              "  'are',\n",
              "  'independent',\n",
              "  'if',\n",
              "  'the',\n",
              "  'incidence',\n",
              "  'of',\n",
              "  'one',\n",
              "  'event',\n",
              "  'does',\n",
              "  'not',\n",
              "  'affect',\n",
              "  'the',\n",
              "  'probability',\n",
              "  'of',\n",
              "  'the',\n",
              "  'other',\n",
              "  'event',\n",
              "  '.',\n",
              "  'If',\n",
              "  'the',\n",
              "  'incidence',\n",
              "  'of',\n",
              "  'one',\n",
              "  'event',\n",
              "  'does',\n",
              "  'affect',\n",
              "  'the',\n",
              "  'probability',\n",
              "  'of',\n",
              "  'the',\n",
              "  'other',\n",
              "  'event',\n",
              "  ',',\n",
              "  'then',\n",
              "  'the',\n",
              "  'events',\n",
              "  'are',\n",
              "  'dependent',\n",
              "  '.']]"
            ]
          },
          "metadata": {},
          "execution_count": 15
        }
      ],
      "source": [
        "[word_tokenize (text) for t in sent_tokenize(text)]"
      ]
    },
    {
      "cell_type": "code",
      "execution_count": null,
      "id": "saving-trade",
      "metadata": {
        "id": "saving-trade"
      },
      "outputs": [],
      "source": [
        "from nltk.tokenize import wordpunct_tokenize"
      ]
    },
    {
      "cell_type": "code",
      "execution_count": null,
      "id": "decimal-presence",
      "metadata": {
        "colab": {
          "base_uri": "https://localhost:8080/"
        },
        "id": "decimal-presence",
        "outputId": "29322dd0-be2d-41cd-ab3a-c226381e4026"
      },
      "outputs": [
        {
          "output_type": "execute_result",
          "data": {
            "text/plain": [
              "['In',\n",
              " 'probability',\n",
              " ',',\n",
              " 'two',\n",
              " 'events',\n",
              " 'are',\n",
              " 'independent',\n",
              " 'if',\n",
              " 'the',\n",
              " 'incidence',\n",
              " 'of',\n",
              " 'one',\n",
              " 'event',\n",
              " 'does',\n",
              " 'not',\n",
              " 'affect',\n",
              " 'the',\n",
              " 'probability',\n",
              " 'of',\n",
              " 'the',\n",
              " 'other',\n",
              " 'event',\n",
              " '.',\n",
              " 'If',\n",
              " 'the',\n",
              " 'incidence',\n",
              " 'of',\n",
              " 'one',\n",
              " 'event',\n",
              " 'does',\n",
              " 'affect',\n",
              " 'the',\n",
              " 'probability',\n",
              " 'of',\n",
              " 'the',\n",
              " 'other',\n",
              " 'event',\n",
              " ',',\n",
              " 'then',\n",
              " 'the',\n",
              " 'events',\n",
              " 'are',\n",
              " 'dependent',\n",
              " '.']"
            ]
          },
          "metadata": {},
          "execution_count": 17
        }
      ],
      "source": [
        "wordpunct_tokenize (text)"
      ]
    },
    {
      "cell_type": "markdown",
      "id": "equal-kitty",
      "metadata": {
        "id": "equal-kitty"
      },
      "source": [
        "### Filteration of Text by converting into lower case"
      ]
    },
    {
      "cell_type": "code",
      "execution_count": null,
      "id": "alpha-cannon",
      "metadata": {
        "colab": {
          "base_uri": "https://localhost:8080/",
          "height": 53
        },
        "id": "alpha-cannon",
        "outputId": "daaf8f3d-bc44-4ab3-8732-79cd2fcf0e41"
      },
      "outputs": [
        {
          "output_type": "execute_result",
          "data": {
            "text/plain": [
              "'in probability, two events are independent if the incidence of one event does not affect the probability of the other event. if the incidence of one event does affect the probability of the other event, then the events are dependent.'"
            ],
            "application/vnd.google.colaboratory.intrinsic+json": {
              "type": "string"
            }
          },
          "metadata": {},
          "execution_count": 18
        }
      ],
      "source": [
        "text.lower()"
      ]
    },
    {
      "cell_type": "code",
      "execution_count": null,
      "id": "bulgarian-performer",
      "metadata": {
        "colab": {
          "base_uri": "https://localhost:8080/",
          "height": 53
        },
        "id": "bulgarian-performer",
        "outputId": "388f9a54-e56a-45ba-b362-335dad5d40e9"
      },
      "outputs": [
        {
          "output_type": "execute_result",
          "data": {
            "text/plain": [
              "'IN PROBABILITY, TWO EVENTS ARE INDEPENDENT IF THE INCIDENCE OF ONE EVENT DOES NOT AFFECT THE PROBABILITY OF THE OTHER EVENT. IF THE INCIDENCE OF ONE EVENT DOES AFFECT THE PROBABILITY OF THE OTHER EVENT, THEN THE EVENTS ARE DEPENDENT.'"
            ],
            "application/vnd.google.colaboratory.intrinsic+json": {
              "type": "string"
            }
          },
          "metadata": {},
          "execution_count": 19
        }
      ],
      "source": [
        "text.upper()"
      ]
    }
  ],
  "metadata": {
    "kernelspec": {
      "display_name": "Python 3",
      "language": "python",
      "name": "python3"
    },
    "language_info": {
      "codemirror_mode": {
        "name": "ipython",
        "version": 3
      },
      "file_extension": ".py",
      "mimetype": "text/x-python",
      "name": "python",
      "nbconvert_exporter": "python",
      "pygments_lexer": "ipython3",
      "version": "3.7.0"
    },
    "colab": {
      "provenance": []
    }
  },
  "nbformat": 4,
  "nbformat_minor": 5
}