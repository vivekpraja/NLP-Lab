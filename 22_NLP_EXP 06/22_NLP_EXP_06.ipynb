{
  "cells": [
    {
      "cell_type": "code",
      "execution_count": 1,
      "id": "exciting-identity",
      "metadata": {
        "colab": {
          "base_uri": "https://localhost:8080/",
          "height": 0
        },
        "id": "exciting-identity",
        "outputId": "4cca04b4-5b69-4488-fa22-225c2dcc42af"
      },
      "outputs": [
        {
          "output_type": "stream",
          "name": "stderr",
          "text": [
            "[nltk_data] Downloading package punkt to /root/nltk_data...\n",
            "[nltk_data]   Unzipping tokenizers/punkt.zip.\n",
            "[nltk_data] Downloading package averaged_perceptron_tagger to\n",
            "[nltk_data]     /root/nltk_data...\n",
            "[nltk_data]   Unzipping taggers/averaged_perceptron_tagger.zip.\n"
          ]
        },
        {
          "output_type": "execute_result",
          "data": {
            "text/plain": [
              "True"
            ]
          },
          "metadata": {},
          "execution_count": 1
        }
      ],
      "source": [
        "import nltk\n",
        "nltk.download('punkt')\n",
        "nltk.download('averaged_perceptron_tagger')"
      ]
    },
    {
      "cell_type": "code",
      "execution_count": 2,
      "id": "parliamentary-alpha",
      "metadata": {
        "id": "parliamentary-alpha"
      },
      "outputs": [],
      "source": [
        "from nltk.chunk import RegexpParser\n",
        "from nltk.tokenize import word_tokenize"
      ]
    },
    {
      "cell_type": "code",
      "execution_count": 14,
      "id": "subject-coordinator",
      "metadata": {
        "id": "subject-coordinator"
      },
      "outputs": [],
      "source": [
        "sentence = \"Education is the transmission of knowledge, skills, and character traits. \""
      ]
    },
    {
      "cell_type": "markdown",
      "id": "featured-pennsylvania",
      "metadata": {
        "id": "featured-pennsylvania"
      },
      "source": [
        "### Tokenization"
      ]
    },
    {
      "cell_type": "code",
      "execution_count": 15,
      "id": "massive-deposit",
      "metadata": {
        "id": "massive-deposit"
      },
      "outputs": [],
      "source": [
        "tokens = word_tokenize(sentence)"
      ]
    },
    {
      "cell_type": "code",
      "execution_count": 16,
      "id": "curious-coaching",
      "metadata": {
        "colab": {
          "base_uri": "https://localhost:8080/",
          "height": 0
        },
        "id": "curious-coaching",
        "outputId": "66c60b06-9c8e-4b4d-9464-4c9f0c4fbaf5"
      },
      "outputs": [
        {
          "output_type": "execute_result",
          "data": {
            "text/plain": [
              "['Education',\n",
              " 'is',\n",
              " 'the',\n",
              " 'transmission',\n",
              " 'of',\n",
              " 'knowledge',\n",
              " ',',\n",
              " 'skills',\n",
              " ',',\n",
              " 'and',\n",
              " 'character',\n",
              " 'traits',\n",
              " '.']"
            ]
          },
          "metadata": {},
          "execution_count": 16
        }
      ],
      "source": [
        "tokens"
      ]
    },
    {
      "cell_type": "markdown",
      "id": "possible-strengthening",
      "metadata": {
        "id": "possible-strengthening"
      },
      "source": [
        "### POS tagging"
      ]
    },
    {
      "cell_type": "code",
      "execution_count": 17,
      "id": "liberal-convenience",
      "metadata": {
        "id": "liberal-convenience"
      },
      "outputs": [],
      "source": [
        "pos_tags = nltk.pos_tag(tokens)"
      ]
    },
    {
      "cell_type": "code",
      "execution_count": 18,
      "id": "unavailable-northeast",
      "metadata": {
        "colab": {
          "base_uri": "https://localhost:8080/",
          "height": 0
        },
        "id": "unavailable-northeast",
        "outputId": "c888a5d2-494b-477c-af3e-893dae88bfba"
      },
      "outputs": [
        {
          "output_type": "execute_result",
          "data": {
            "text/plain": [
              "[('Education', 'NN'),\n",
              " ('is', 'VBZ'),\n",
              " ('the', 'DT'),\n",
              " ('transmission', 'NN'),\n",
              " ('of', 'IN'),\n",
              " ('knowledge', 'NN'),\n",
              " (',', ','),\n",
              " ('skills', 'NNS'),\n",
              " (',', ','),\n",
              " ('and', 'CC'),\n",
              " ('character', 'NN'),\n",
              " ('traits', 'NNS'),\n",
              " ('.', '.')]"
            ]
          },
          "metadata": {},
          "execution_count": 18
        }
      ],
      "source": [
        "pos_tags"
      ]
    },
    {
      "cell_type": "markdown",
      "id": "sitting-pencil",
      "metadata": {
        "id": "sitting-pencil"
      },
      "source": [
        "### Chunking patterns"
      ]
    },
    {
      "cell_type": "code",
      "execution_count": 19,
      "id": "surrounded-straight",
      "metadata": {
        "id": "surrounded-straight"
      },
      "outputs": [],
      "source": [
        "chunk_patterns = r\"\"\"\n",
        "    NP: {<DT>?<JJ>*<NN>}  # Chunk noun phrases\n",
        "    VP: {<VB.*><NP|PP>}  # Chunk verb phrases\n",
        "\"\"\""
      ]
    },
    {
      "cell_type": "code",
      "execution_count": 20,
      "id": "abstract-banks",
      "metadata": {
        "colab": {
          "base_uri": "https://localhost:8080/",
          "height": 36
        },
        "id": "abstract-banks",
        "outputId": "8178c9e0-0d2b-4843-9acf-e44f6cbecbc4"
      },
      "outputs": [
        {
          "output_type": "execute_result",
          "data": {
            "text/plain": [
              "'\\n    NP: {<DT>?<JJ>*<NN>}  # Chunk noun phrases\\n    VP: {<VB.*><NP|PP>}  # Chunk verb phrases\\n'"
            ],
            "application/vnd.google.colaboratory.intrinsic+json": {
              "type": "string"
            }
          },
          "metadata": {},
          "execution_count": 20
        }
      ],
      "source": [
        "chunk_patterns"
      ]
    },
    {
      "cell_type": "markdown",
      "id": "banner-reset",
      "metadata": {
        "id": "banner-reset"
      },
      "source": [
        "### Create a chunk parser"
      ]
    },
    {
      "cell_type": "code",
      "execution_count": 21,
      "id": "intended-connectivity",
      "metadata": {
        "id": "intended-connectivity"
      },
      "outputs": [],
      "source": [
        "chunk_parser = RegexpParser(chunk_patterns)"
      ]
    },
    {
      "cell_type": "code",
      "execution_count": 22,
      "id": "soviet-difference",
      "metadata": {
        "colab": {
          "base_uri": "https://localhost:8080/",
          "height": 0
        },
        "id": "soviet-difference",
        "outputId": "b362edc0-30e7-4d05-9d52-3a3a31995df5"
      },
      "outputs": [
        {
          "output_type": "execute_result",
          "data": {
            "text/plain": [
              "<chunk.RegexpParser with 2 stages>"
            ]
          },
          "metadata": {},
          "execution_count": 22
        }
      ],
      "source": [
        "chunk_parser"
      ]
    },
    {
      "cell_type": "markdown",
      "id": "existing-placement",
      "metadata": {
        "id": "existing-placement"
      },
      "source": [
        "### Perform chunking"
      ]
    },
    {
      "cell_type": "code",
      "execution_count": 23,
      "id": "exclusive-manor",
      "metadata": {
        "id": "exclusive-manor"
      },
      "outputs": [],
      "source": [
        "result = chunk_parser.parse(pos_tags)"
      ]
    },
    {
      "cell_type": "code",
      "execution_count": 24,
      "id": "figured-compromise",
      "metadata": {
        "colab": {
          "base_uri": "https://localhost:8080/",
          "height": 0
        },
        "id": "figured-compromise",
        "outputId": "359d0c94-7497-4d8d-d591-ffa89cd7b1a7"
      },
      "outputs": [
        {
          "output_type": "stream",
          "name": "stdout",
          "text": [
            "(S\n",
            "  (NP Education/NN)\n",
            "  (VP is/VBZ (NP the/DT transmission/NN))\n",
            "  of/IN\n",
            "  (NP knowledge/NN)\n",
            "  ,/,\n",
            "  skills/NNS\n",
            "  ,/,\n",
            "  and/CC\n",
            "  (NP character/NN)\n",
            "  traits/NNS\n",
            "  ./.)\n"
          ]
        }
      ],
      "source": [
        "print(result)"
      ]
    }
  ],
  "metadata": {
    "kernelspec": {
      "display_name": "Python 3 (ipykernel)",
      "language": "python",
      "name": "python3"
    },
    "language_info": {
      "codemirror_mode": {
        "name": "ipython",
        "version": 3
      },
      "file_extension": ".py",
      "mimetype": "text/x-python",
      "name": "python",
      "nbconvert_exporter": "python",
      "pygments_lexer": "ipython3",
      "version": "3.7.0"
    },
    "colab": {
      "provenance": []
    }
  },
  "nbformat": 4,
  "nbformat_minor": 5
}